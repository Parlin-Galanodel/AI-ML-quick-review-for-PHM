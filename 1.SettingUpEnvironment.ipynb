{
 "cells": [
  {
   "cell_type": "markdown",
   "id": "ab68ada9-d080-4f65-8ceb-2a50acce3d71",
   "metadata": {},
   "source": [
    "# Setting up your environment\n",
    "In the PHM data challenge, you will perform tasks like data analysis and training machine learning models. Therefore, you need to set up a suitable environment. This guide will walk you through installing the essential tools and editors.\n",
    "\n",
    "# The tools we need:\n",
    "When dealing with data and training machine learning models, you have many tools to choose from. However, a few key components are essential. You have to have these component to finish your task.\n",
    "\n",
    "\n",
    "## Editors\n",
    "A text editor is essential for writing code. You can choose any editor you like, such as Vim/Emacs, Notepad++, Sublime Text, or a modern IDE from JetBrains. Choose the one you are most familiar and comfortable with, as this will be your primary workspace for writing, debugging, and running code.\n",
    "\n",
    "If you do not have a preference, I recommend [Visual Studio Code (VS Code)](https://code.visualstudio.com/). It's open-source, free, cross-platform, and offers excellent support for various coding tasks through its extensive library of extensions.\n",
    "\n",
    "***Installing VS Code*** is straightforward: download the latest version from the [official website](https://code.visualstudio.com/) and run the installer. You will also need some crucial extensions providing the language support. For example, to add Python support, navigate to the 'Extensions' tab, search for 'Python', and install the official extension provided by Microsoft.\n",
    "\n",
    "![The python extensions for VScode](./imgs/vscode_plugins.png)"
   ]
  },
  {
   "cell_type": "markdown",
   "id": "c1c99a1c-b636-43c3-8041-e73e964ce094",
   "metadata": {
    "jp-MarkdownHeadingCollapsed": true
   },
   "source": [
    "Now that your text editor is ready, let's install the programming language toolchain for our data analysis and machine learning tasks.\n",
    "\n",
    "## Programming environment\n",
    "Today, many toolchains are available for data science and machine learning. The most popular is [**Anaconda**](https://www.anaconda.com/). I strongly recommend Anaconda unless you are already proficient with MATLAB and its machine learning packages.\n",
    "\n",
    "The Anaconda distribution is an all-in-one solution for data science. It includes the `conda` package and environment manager, the Python programming language, and many essential data science libraries.\n",
    " \n",
    "There are two common options for installing a Conda-based environment:\n",
    "- **Full Anaconda Distribution**: This installs the `conda` manager, Python, and a large collection of commonly used libraries. It is convenient, but the full installation requires a significant amount of disk space (around 3-4 GB).\n",
    "- **Miniconda**: This installs only the `conda` manager, Python, and a few essential packages. This approach saves disk space while still providing the full power of `conda`, but it requires you to install other libraries manually. This is a great option if you are familiar with `conda` and `pip` commands.\n",
    "![Anaconda Distrobution and Miniconda](./imgs/anaconda&miniconda.png)\n",
    "\n",
    "Alternatively, you can install Python directly from the [**Python Official Website**](https://www.python.org/). With this approach, you would typically use `pip` to manage your libraries and a tool like `venv` (built-in) or the newer `uv` to manage virtual environments."
   ]
  },
  {
   "cell_type": "markdown",
   "id": "1a9a6e42-a5c8-4e0b-a6c4-ed9350e3157a",
   "metadata": {},
   "source": [
    "## Essential Libraries\n",
    "To analyze data and train machine learning models, you will need several libraries. The full **Anaconda** distribution includes most of them, but if you use **Miniconda** or another Python installation, you will need to install them manually.\n",
    "\n",
    "To check your installed libraries, you can type the `conda list` command in your terminal. To check for a specific package, use `conda list <package_name>`.\n",
    " \n",
    "The following libraries are essential. If they are not already installed, you need to install them using `conda install` or `pip install`.\n",
    "- `numpy`: The fundamental package for N-dimensional arrays in Python. It is significantly faster than standard Python lists for numerical operations.\n",
    "- `scipy`: A core library for scientific computing that provides modules for linear algebra, optimization, interpolation, and more.\n",
    "- `pandas`: A library providing high-performance, easy-to-use data structures (like the DataFrame) and data analysis tools. It's essential for loading, cleaning, and manipulating structured data.\n",
    "- `matplotlib` & `seaborn`: `matplotlib` is the standard plotting library in Python. `seaborn` is built on top of it and provides a higher-level, more user-friendly interface for creating attractive statistical graphics.\n",
    "- `scikit-learn` (or `sklearn`): The most popular library for classical machine learning. It provides a wide range of algorithms for classification, regression, clustering, and more.\n",
    "\n",
    "You can install these libraries with one of the following commands:\n",
    "```python\n",
    "# Using conda\n",
    "conda install numpy scipy pandas scikit-learn matplotlib seaborn\n",
    "\n",
    "# Or using pip\n",
    "pip install numpy scipy pandas scikit-learn matplotlib seaborn\n",
    "```\n",
    "\n",
    "For deep learning, you will need to install a specialized framework. The most prominent libraries are **PyTorch** and **TensorFlow**. TensorFlow is known for its robust production deployment capabilities, while PyTorch is often praised for its flexibility and ease of use in research.\n",
    "\n",
    "For this data challenge, I recommend **PyTorch**. When installing it, you must pay close attention to GPU support for hardware acceleration.\n",
    "- **NVIDIA GPU**: First, check your CUDA driver version by typing `nvidia-smi` in your terminal (Command Prompt or PowerShell). Then, visit the [PyTorch website](https://pytorch.org/get-started/locally/), select the appropriate options for your system, and run the generated command.\n",
    "- **AMD GPU**: Installing [PyTorch with AMD GPU support (ROCm)](https://rocm.docs.amd.com/projects/radeon/en/latest/docs/install/wsl/install-pytorch.html) can be challenging, especially on Windows. It is often easier to work on a Linux machine or use a computer in our Laboratory.\n",
    "\n",
    "![CUDA version check](./imgs/cuda.png)"
   ]
  },
  {
   "cell_type": "markdown",
   "id": "8a9df8d1-85fb-4f48-b631-28ecaf5d9c22",
   "metadata": {},
   "source": [
    "After installing PyTorch, you can verify that it can detect and use your GPU by running the following Python code. This script checks for CUDA availability and prints details about the GPU if one is found."
   ]
  },
  {
   "cell_type": "code",
   "execution_count": 1,
   "id": "0768d89d-4b7f-47eb-91ea-7637d9b76450",
   "metadata": {},
   "outputs": [
    {
     "name": "stdout",
     "output_type": "stream",
     "text": [
      "can torch utilise my GPU? True\n",
      "Number of GPUs: 1\n",
      "Current GPU index: 0\n",
      "GPU Name: NVIDIA GeForce GTX 1070\n"
     ]
    }
   ],
   "source": [
    "import torch\n",
    "\n",
    "# check the CUDA support, it must be True if you want to use CUDA for hardware acceleration\n",
    "print(f\"can torch utilise my GPU? {torch.cuda.is_available()}\")\n",
    "# check the number of GPU you have\n",
    "print(f\"Number of GPUs: {torch.cuda.device_count()}\")\n",
    "# check the GPU you are using\n",
    "print(f\"Current GPU index: {torch.cuda.current_device()}\")\n",
    "# The name of your GPU\n",
    "print(f\"GPU Name: {torch.cuda.get_device_name(0)}\")"
   ]
  }
 ],
 "metadata": {
  "kernelspec": {
   "display_name": "Python [conda env:Optics]",
   "language": "python",
   "name": "conda-env-Optics-py"
  },
  "language_info": {
   "codemirror_mode": {
    "name": "ipython",
    "version": 3
   },
   "file_extension": ".py",
   "mimetype": "text/x-python",
   "name": "python",
   "nbconvert_exporter": "python",
   "pygments_lexer": "ipython3",
   "version": "3.10.18"
  }
 },
 "nbformat": 4,
 "nbformat_minor": 5
}
